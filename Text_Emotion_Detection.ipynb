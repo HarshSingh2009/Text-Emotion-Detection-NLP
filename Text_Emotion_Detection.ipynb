{
  "cells": [
    {
      "cell_type": "markdown",
      "id": "07b5db05-3599-4ece-be20-efc75afc52e5",
      "metadata": {
        "id": "07b5db05-3599-4ece-be20-efc75afc52e5"
      },
      "source": [
        "# **Text Emotion Detection**"
      ]
    },
    {
      "cell_type": "code",
      "execution_count": 1,
      "id": "f0abadc8-aeed-4c5d-bb6a-7edb60bbbe01",
      "metadata": {
        "id": "f0abadc8-aeed-4c5d-bb6a-7edb60bbbe01"
      },
      "outputs": [],
      "source": [
        "import tensorflow as tf\n",
        "import pandas as pd\n",
        "import numpy as np\n",
        "import matplotlib.pyplot as plt"
      ]
    },
    {
      "cell_type": "markdown",
      "id": "9fbb3e2f-84cd-4725-b3c1-885223df24f9",
      "metadata": {
        "id": "9fbb3e2f-84cd-4725-b3c1-885223df24f9"
      },
      "source": [
        "## Loading / Preprocessing data"
      ]
    },
    {
      "cell_type": "code",
      "execution_count": 3,
      "id": "b4349d8c-5708-41c7-b31c-0e0f0819e28f",
      "metadata": {
        "id": "b4349d8c-5708-41c7-b31c-0e0f0819e28f"
      },
      "outputs": [],
      "source": [
        "def load_preprocess_data(filename):\n",
        "    with open(filename, 'r') as file:\n",
        "        lines = file.readlines()\n",
        "    texts, labels = [], []\n",
        "    for line in lines:\n",
        "        line = line.split('\\n')[0]\n",
        "        text, label = line.split(';')\n",
        "        texts.append(text)\n",
        "        labels.append(label)\n",
        "    return texts, labels\n",
        "\n",
        "train_texts, train_labels = load_preprocess_data('train.txt')\n",
        "test_texts, test_labels = load_preprocess_data('test.txt')\n",
        "val_texts, val_labels = load_preprocess_data('val.txt')"
      ]
    },
    {
      "cell_type": "code",
      "execution_count": 4,
      "id": "624ed145-d810-42a5-bc62-ef2726f18826",
      "metadata": {
        "colab": {
          "base_uri": "https://localhost:8080/"
        },
        "id": "624ed145-d810-42a5-bc62-ef2726f18826",
        "outputId": "9430e469-dcad-407c-929f-2f6a9ebb939e"
      },
      "outputs": [
        {
          "data": {
            "text/plain": [
              "(['i didnt feel humiliated',\n",
              "  'i can go from feeling so hopeless to so damned hopeful just from being around someone who cares and is awake',\n",
              "  'im grabbing a minute to post i feel greedy wrong',\n",
              "  'i am ever feeling nostalgic about the fireplace i will know that it is still on the property',\n",
              "  'i am feeling grouchy'],\n",
              " ['sadness', 'sadness', 'anger', 'love', 'anger'])"
            ]
          },
          "execution_count": 4,
          "metadata": {},
          "output_type": "execute_result"
        }
      ],
      "source": [
        "train_texts[:5], train_labels[:5]"
      ]
    },
    {
      "cell_type": "code",
      "execution_count": 5,
      "id": "2401126f-b827-4f5e-8690-e41e4bea8173",
      "metadata": {
        "id": "2401126f-b827-4f5e-8690-e41e4bea8173"
      },
      "outputs": [],
      "source": [
        "## converting into pd.DataFrame\n",
        "train_df = pd.DataFrame({'texts': train_texts, 'target': train_labels})\n",
        "test_df = pd.DataFrame({'texts': test_texts, 'target': test_labels})"
      ]
    },
    {
      "cell_type": "code",
      "execution_count": 6,
      "id": "1033f062-78fa-4c7f-b022-7d8a8260409b",
      "metadata": {
        "colab": {
          "base_uri": "https://localhost:8080/",
          "height": 206
        },
        "id": "1033f062-78fa-4c7f-b022-7d8a8260409b",
        "outputId": "e1bde6b3-399e-4f56-893a-5bf55ee97f96"
      },
      "outputs": [
        {
          "data": {
            "text/html": [
              "\n",
              "  <div id=\"df-66990598-10bc-4aa1-9c34-87de5d545e6a\" class=\"colab-df-container\">\n",
              "    <div>\n",
              "<style scoped>\n",
              "    .dataframe tbody tr th:only-of-type {\n",
              "        vertical-align: middle;\n",
              "    }\n",
              "\n",
              "    .dataframe tbody tr th {\n",
              "        vertical-align: top;\n",
              "    }\n",
              "\n",
              "    .dataframe thead th {\n",
              "        text-align: right;\n",
              "    }\n",
              "</style>\n",
              "<table border=\"1\" class=\"dataframe\">\n",
              "  <thead>\n",
              "    <tr style=\"text-align: right;\">\n",
              "      <th></th>\n",
              "      <th>texts</th>\n",
              "      <th>target</th>\n",
              "    </tr>\n",
              "  </thead>\n",
              "  <tbody>\n",
              "    <tr>\n",
              "      <th>0</th>\n",
              "      <td>i didnt feel humiliated</td>\n",
              "      <td>sadness</td>\n",
              "    </tr>\n",
              "    <tr>\n",
              "      <th>1</th>\n",
              "      <td>i can go from feeling so hopeless to so damned...</td>\n",
              "      <td>sadness</td>\n",
              "    </tr>\n",
              "    <tr>\n",
              "      <th>2</th>\n",
              "      <td>im grabbing a minute to post i feel greedy wrong</td>\n",
              "      <td>anger</td>\n",
              "    </tr>\n",
              "    <tr>\n",
              "      <th>3</th>\n",
              "      <td>i am ever feeling nostalgic about the fireplac...</td>\n",
              "      <td>love</td>\n",
              "    </tr>\n",
              "    <tr>\n",
              "      <th>4</th>\n",
              "      <td>i am feeling grouchy</td>\n",
              "      <td>anger</td>\n",
              "    </tr>\n",
              "  </tbody>\n",
              "</table>\n",
              "</div>\n",
              "    <div class=\"colab-df-buttons\">\n",
              "\n",
              "  <div class=\"colab-df-container\">\n",
              "    <button class=\"colab-df-convert\" onclick=\"convertToInteractive('df-66990598-10bc-4aa1-9c34-87de5d545e6a')\"\n",
              "            title=\"Convert this dataframe to an interactive table.\"\n",
              "            style=\"display:none;\">\n",
              "\n",
              "  <svg xmlns=\"http://www.w3.org/2000/svg\" height=\"24px\" viewBox=\"0 -960 960 960\">\n",
              "    <path d=\"M120-120v-720h720v720H120Zm60-500h600v-160H180v160Zm220 220h160v-160H400v160Zm0 220h160v-160H400v160ZM180-400h160v-160H180v160Zm440 0h160v-160H620v160ZM180-180h160v-160H180v160Zm440 0h160v-160H620v160Z\"/>\n",
              "  </svg>\n",
              "    </button>\n",
              "\n",
              "  <style>\n",
              "    .colab-df-container {\n",
              "      display:flex;\n",
              "      gap: 12px;\n",
              "    }\n",
              "\n",
              "    .colab-df-convert {\n",
              "      background-color: #E8F0FE;\n",
              "      border: none;\n",
              "      border-radius: 50%;\n",
              "      cursor: pointer;\n",
              "      display: none;\n",
              "      fill: #1967D2;\n",
              "      height: 32px;\n",
              "      padding: 0 0 0 0;\n",
              "      width: 32px;\n",
              "    }\n",
              "\n",
              "    .colab-df-convert:hover {\n",
              "      background-color: #E2EBFA;\n",
              "      box-shadow: 0px 1px 2px rgba(60, 64, 67, 0.3), 0px 1px 3px 1px rgba(60, 64, 67, 0.15);\n",
              "      fill: #174EA6;\n",
              "    }\n",
              "\n",
              "    .colab-df-buttons div {\n",
              "      margin-bottom: 4px;\n",
              "    }\n",
              "\n",
              "    [theme=dark] .colab-df-convert {\n",
              "      background-color: #3B4455;\n",
              "      fill: #D2E3FC;\n",
              "    }\n",
              "\n",
              "    [theme=dark] .colab-df-convert:hover {\n",
              "      background-color: #434B5C;\n",
              "      box-shadow: 0px 1px 3px 1px rgba(0, 0, 0, 0.15);\n",
              "      filter: drop-shadow(0px 1px 2px rgba(0, 0, 0, 0.3));\n",
              "      fill: #FFFFFF;\n",
              "    }\n",
              "  </style>\n",
              "\n",
              "    <script>\n",
              "      const buttonEl =\n",
              "        document.querySelector('#df-66990598-10bc-4aa1-9c34-87de5d545e6a button.colab-df-convert');\n",
              "      buttonEl.style.display =\n",
              "        google.colab.kernel.accessAllowed ? 'block' : 'none';\n",
              "\n",
              "      async function convertToInteractive(key) {\n",
              "        const element = document.querySelector('#df-66990598-10bc-4aa1-9c34-87de5d545e6a');\n",
              "        const dataTable =\n",
              "          await google.colab.kernel.invokeFunction('convertToInteractive',\n",
              "                                                    [key], {});\n",
              "        if (!dataTable) return;\n",
              "\n",
              "        const docLinkHtml = 'Like what you see? Visit the ' +\n",
              "          '<a target=\"_blank\" href=https://colab.research.google.com/notebooks/data_table.ipynb>data table notebook</a>'\n",
              "          + ' to learn more about interactive tables.';\n",
              "        element.innerHTML = '';\n",
              "        dataTable['output_type'] = 'display_data';\n",
              "        await google.colab.output.renderOutput(dataTable, element);\n",
              "        const docLink = document.createElement('div');\n",
              "        docLink.innerHTML = docLinkHtml;\n",
              "        element.appendChild(docLink);\n",
              "      }\n",
              "    </script>\n",
              "  </div>\n",
              "\n",
              "\n",
              "<div id=\"df-8b280681-6727-40b0-b228-5bd30f1c831e\">\n",
              "  <button class=\"colab-df-quickchart\" onclick=\"quickchart('df-8b280681-6727-40b0-b228-5bd30f1c831e')\"\n",
              "            title=\"Suggest charts.\"\n",
              "            style=\"display:none;\">\n",
              "\n",
              "<svg xmlns=\"http://www.w3.org/2000/svg\" height=\"24px\"viewBox=\"0 0 24 24\"\n",
              "     width=\"24px\">\n",
              "    <g>\n",
              "        <path d=\"M19 3H5c-1.1 0-2 .9-2 2v14c0 1.1.9 2 2 2h14c1.1 0 2-.9 2-2V5c0-1.1-.9-2-2-2zM9 17H7v-7h2v7zm4 0h-2V7h2v10zm4 0h-2v-4h2v4z\"/>\n",
              "    </g>\n",
              "</svg>\n",
              "  </button>\n",
              "\n",
              "<style>\n",
              "  .colab-df-quickchart {\n",
              "      --bg-color: #E8F0FE;\n",
              "      --fill-color: #1967D2;\n",
              "      --hover-bg-color: #E2EBFA;\n",
              "      --hover-fill-color: #174EA6;\n",
              "      --disabled-fill-color: #AAA;\n",
              "      --disabled-bg-color: #DDD;\n",
              "  }\n",
              "\n",
              "  [theme=dark] .colab-df-quickchart {\n",
              "      --bg-color: #3B4455;\n",
              "      --fill-color: #D2E3FC;\n",
              "      --hover-bg-color: #434B5C;\n",
              "      --hover-fill-color: #FFFFFF;\n",
              "      --disabled-bg-color: #3B4455;\n",
              "      --disabled-fill-color: #666;\n",
              "  }\n",
              "\n",
              "  .colab-df-quickchart {\n",
              "    background-color: var(--bg-color);\n",
              "    border: none;\n",
              "    border-radius: 50%;\n",
              "    cursor: pointer;\n",
              "    display: none;\n",
              "    fill: var(--fill-color);\n",
              "    height: 32px;\n",
              "    padding: 0;\n",
              "    width: 32px;\n",
              "  }\n",
              "\n",
              "  .colab-df-quickchart:hover {\n",
              "    background-color: var(--hover-bg-color);\n",
              "    box-shadow: 0 1px 2px rgba(60, 64, 67, 0.3), 0 1px 3px 1px rgba(60, 64, 67, 0.15);\n",
              "    fill: var(--button-hover-fill-color);\n",
              "  }\n",
              "\n",
              "  .colab-df-quickchart-complete:disabled,\n",
              "  .colab-df-quickchart-complete:disabled:hover {\n",
              "    background-color: var(--disabled-bg-color);\n",
              "    fill: var(--disabled-fill-color);\n",
              "    box-shadow: none;\n",
              "  }\n",
              "\n",
              "  .colab-df-spinner {\n",
              "    border: 2px solid var(--fill-color);\n",
              "    border-color: transparent;\n",
              "    border-bottom-color: var(--fill-color);\n",
              "    animation:\n",
              "      spin 1s steps(1) infinite;\n",
              "  }\n",
              "\n",
              "  @keyframes spin {\n",
              "    0% {\n",
              "      border-color: transparent;\n",
              "      border-bottom-color: var(--fill-color);\n",
              "      border-left-color: var(--fill-color);\n",
              "    }\n",
              "    20% {\n",
              "      border-color: transparent;\n",
              "      border-left-color: var(--fill-color);\n",
              "      border-top-color: var(--fill-color);\n",
              "    }\n",
              "    30% {\n",
              "      border-color: transparent;\n",
              "      border-left-color: var(--fill-color);\n",
              "      border-top-color: var(--fill-color);\n",
              "      border-right-color: var(--fill-color);\n",
              "    }\n",
              "    40% {\n",
              "      border-color: transparent;\n",
              "      border-right-color: var(--fill-color);\n",
              "      border-top-color: var(--fill-color);\n",
              "    }\n",
              "    60% {\n",
              "      border-color: transparent;\n",
              "      border-right-color: var(--fill-color);\n",
              "    }\n",
              "    80% {\n",
              "      border-color: transparent;\n",
              "      border-right-color: var(--fill-color);\n",
              "      border-bottom-color: var(--fill-color);\n",
              "    }\n",
              "    90% {\n",
              "      border-color: transparent;\n",
              "      border-bottom-color: var(--fill-color);\n",
              "    }\n",
              "  }\n",
              "</style>\n",
              "\n",
              "  <script>\n",
              "    async function quickchart(key) {\n",
              "      const quickchartButtonEl =\n",
              "        document.querySelector('#' + key + ' button');\n",
              "      quickchartButtonEl.disabled = true;  // To prevent multiple clicks.\n",
              "      quickchartButtonEl.classList.add('colab-df-spinner');\n",
              "      try {\n",
              "        const charts = await google.colab.kernel.invokeFunction(\n",
              "            'suggestCharts', [key], {});\n",
              "      } catch (error) {\n",
              "        console.error('Error during call to suggestCharts:', error);\n",
              "      }\n",
              "      quickchartButtonEl.classList.remove('colab-df-spinner');\n",
              "      quickchartButtonEl.classList.add('colab-df-quickchart-complete');\n",
              "    }\n",
              "    (() => {\n",
              "      let quickchartButtonEl =\n",
              "        document.querySelector('#df-8b280681-6727-40b0-b228-5bd30f1c831e button');\n",
              "      quickchartButtonEl.style.display =\n",
              "        google.colab.kernel.accessAllowed ? 'block' : 'none';\n",
              "    })();\n",
              "  </script>\n",
              "</div>\n",
              "    </div>\n",
              "  </div>\n"
            ],
            "text/plain": [
              "                                               texts   target\n",
              "0                            i didnt feel humiliated  sadness\n",
              "1  i can go from feeling so hopeless to so damned...  sadness\n",
              "2   im grabbing a minute to post i feel greedy wrong    anger\n",
              "3  i am ever feeling nostalgic about the fireplac...     love\n",
              "4                               i am feeling grouchy    anger"
            ]
          },
          "execution_count": 6,
          "metadata": {},
          "output_type": "execute_result"
        }
      ],
      "source": [
        "train_df.head()"
      ]
    },
    {
      "cell_type": "code",
      "execution_count": 7,
      "id": "8043a3c1-1334-416b-b8f2-55bc21eed3b9",
      "metadata": {
        "colab": {
          "base_uri": "https://localhost:8080/"
        },
        "id": "8043a3c1-1334-416b-b8f2-55bc21eed3b9",
        "outputId": "d791a0af-01af-4792-941f-e2578899d627"
      },
      "outputs": [
        {
          "data": {
            "text/plain": [
              "(16000, 2)"
            ]
          },
          "execution_count": 7,
          "metadata": {},
          "output_type": "execute_result"
        }
      ],
      "source": [
        "train_df.shape"
      ]
    },
    {
      "cell_type": "code",
      "execution_count": 8,
      "id": "08f09a1e-5998-4e50-99b6-ccefa9c67ce8",
      "metadata": {
        "colab": {
          "base_uri": "https://localhost:8080/"
        },
        "id": "08f09a1e-5998-4e50-99b6-ccefa9c67ce8",
        "outputId": "e2011d59-e0d4-4389-b0f8-261d8e80d6fa"
      },
      "outputs": [
        {
          "data": {
            "text/plain": [
              "(2000, 2)"
            ]
          },
          "execution_count": 8,
          "metadata": {},
          "output_type": "execute_result"
        }
      ],
      "source": [
        "test_df.shape"
      ]
    },
    {
      "cell_type": "code",
      "execution_count": 9,
      "id": "d7137e1a-5fec-4239-93d6-acb2e90c2740",
      "metadata": {
        "colab": {
          "base_uri": "https://localhost:8080/",
          "height": 466
        },
        "id": "d7137e1a-5fec-4239-93d6-acb2e90c2740",
        "outputId": "9cab5efa-233e-4afe-8b51-b7cd3952f352"
      },
      "outputs": [
        {
          "data": {
            "text/plain": [
              "<Axes: xlabel='target', ylabel='count'>"
            ]
          },
          "execution_count": 9,
          "metadata": {},
          "output_type": "execute_result"
        },
        {
          "data": {
            "image/png": "[encoded data removed]",
            "text/plain": [
              "<Figure size 640x480 with 1 Axes>"
            ]
          },
          "metadata": {},
          "output_type": "display_data"
        }
      ],
      "source": [
        "import seaborn as sns\n",
        "sns.countplot(x='target', data=train_df)"
      ]
    },
    {
      "cell_type": "code",
      "execution_count": 10,
      "id": "946a1c93-9402-4498-a888-8ec130f558b0",
      "metadata": {
        "id": "946a1c93-9402-4498-a888-8ec130f558b0"
      },
      "outputs": [],
      "source": [
        "from sklearn.preprocessing import LabelEncoder\n",
        "lr = LabelEncoder()\n",
        "train_df['target'] = lr.fit_transform(train_df['target'])\n",
        "test_df['target'] = lr.transform(test_df['target'])"
      ]
    },
    {
      "cell_type": "code",
      "execution_count": 11,
      "id": "c1be5fa6-4b87-41e3-b013-502bbbaaa0ab",
      "metadata": {
        "colab": {
          "base_uri": "https://localhost:8080/",
          "height": 206
        },
        "id": "c1be5fa6-4b87-41e3-b013-502bbbaaa0ab",
        "outputId": "732baeed-ce9d-4ee6-e1d7-e5d9a02b08d6"
      },
      "outputs": [
        {
          "data": {
            "text/html": [
              "\n",
              "  <div id=\"df-508175ff-8360-4366-9390-ff3482b36f55\" class=\"colab-df-container\">\n",
              "    <div>\n",
              "<style scoped>\n",
              "    .dataframe tbody tr th:only-of-type {\n",
              "        vertical-align: middle;\n",
              "    }\n",
              "\n",
              "    .dataframe tbody tr th {\n",
              "        vertical-align: top;\n",
              "    }\n",
              "\n",
              "    .dataframe thead th {\n",
              "        text-align: right;\n",
              "    }\n",
              "</style>\n",
              "<table border=\"1\" class=\"dataframe\">\n",
              "  <thead>\n",
              "    <tr style=\"text-align: right;\">\n",
              "      <th></th>\n",
              "      <th>texts</th>\n",
              "      <th>target</th>\n",
              "    </tr>\n",
              "  </thead>\n",
              "  <tbody>\n",
              "    <tr>\n",
              "      <th>0</th>\n",
              "      <td>i didnt feel humiliated</td>\n",
              "      <td>4</td>\n",
              "    </tr>\n",
              "    <tr>\n",
              "      <th>1</th>\n",
              "      <td>i can go from feeling so hopeless to so damned...</td>\n",
              "      <td>4</td>\n",
              "    </tr>\n",
              "    <tr>\n",
              "      <th>2</th>\n",
              "      <td>im grabbing a minute to post i feel greedy wrong</td>\n",
              "      <td>0</td>\n",
              "    </tr>\n",
              "    <tr>\n",
              "      <th>3</th>\n",
              "      <td>i am ever feeling nostalgic about the fireplac...</td>\n",
              "      <td>3</td>\n",
              "    </tr>\n",
              "    <tr>\n",
              "      <th>4</th>\n",
              "      <td>i am feeling grouchy</td>\n",
              "      <td>0</td>\n",
              "    </tr>\n",
              "  </tbody>\n",
              "</table>\n",
              "</div>\n",
              "    <div class=\"colab-df-buttons\">\n",
              "\n",
              "  <div class=\"colab-df-container\">\n",
              "    <button class=\"colab-df-convert\" onclick=\"convertToInteractive('df-508175ff-8360-4366-9390-ff3482b36f55')\"\n",
              "            title=\"Convert this dataframe to an interactive table.\"\n",
              "            style=\"display:none;\">\n",
              "\n",
              "  <svg xmlns=\"http://www.w3.org/2000/svg\" height=\"24px\" viewBox=\"0 -960 960 960\">\n",
              "    <path d=\"M120-120v-720h720v720H120Zm60-500h600v-160H180v160Zm220 220h160v-160H400v160Zm0 220h160v-160H400v160ZM180-400h160v-160H180v160Zm440 0h160v-160H620v160ZM180-180h160v-160H180v160Zm440 0h160v-160H620v160Z\"/>\n",
              "  </svg>\n",
              "    </button>\n",
              "\n",
              "  <style>\n",
              "    .colab-df-container {\n",
              "      display:flex;\n",
              "      gap: 12px;\n",
              "    }\n",
              "\n",
              "    .colab-df-convert {\n",
              "      background-color: #E8F0FE;\n",
              "      border: none;\n",
              "      border-radius: 50%;\n",
              "      cursor: pointer;\n",
              "      display: none;\n",
              "      fill: #1967D2;\n",
              "      height: 32px;\n",
              "      padding: 0 0 0 0;\n",
              "      width: 32px;\n",
              "    }\n",
              "\n",
              "    .colab-df-convert:hover {\n",
              "      background-color: #E2EBFA;\n",
              "      box-shadow: 0px 1px 2px rgba(60, 64, 67, 0.3), 0px 1px 3px 1px rgba(60, 64, 67, 0.15);\n",
              "      fill: #174EA6;\n",
              "    }\n",
              "\n",
              "    .colab-df-buttons div {\n",
              "      margin-bottom: 4px;\n",
              "    }\n",
              "\n",
              "    [theme=dark] .colab-df-convert {\n",
              "      background-color: #3B4455;\n",
              "      fill: #D2E3FC;\n",
              "    }\n",
              "\n",
              "    [theme=dark] .colab-df-convert:hover {\n",
              "      background-color: #434B5C;\n",
              "      box-shadow: 0px 1px 3px 1px rgba(0, 0, 0, 0.15);\n",
              "      filter: drop-shadow(0px 1px 2px rgba(0, 0, 0, 0.3));\n",
              "      fill: #FFFFFF;\n",
              "    }\n",
              "  </style>\n",
              "\n",
              "    <script>\n",
              "      const buttonEl =\n",
              "        document.querySelector('#df-508175ff-8360-4366-9390-ff3482b36f55 button.colab-df-convert');\n",
              "      buttonEl.style.display =\n",
              "        google.colab.kernel.accessAllowed ? 'block' : 'none';\n",
              "\n",
              "      async function convertToInteractive(key) {\n",
              "        const element = document.querySelector('#df-508175ff-8360-4366-9390-ff3482b36f55');\n",
              "        const dataTable =\n",
              "          await google.colab.kernel.invokeFunction('convertToInteractive',\n",
              "                                                    [key], {});\n",
              "        if (!dataTable) return;\n",
              "\n",
              "        const docLinkHtml = 'Like what you see? Visit the ' +\n",
              "          '<a target=\"_blank\" href=https://colab.research.google.com/notebooks/data_table.ipynb>data table notebook</a>'\n",
              "          + ' to learn more about interactive tables.';\n",
              "        element.innerHTML = '';\n",
              "        dataTable['output_type'] = 'display_data';\n",
              "        await google.colab.output.renderOutput(dataTable, element);\n",
              "        const docLink = document.createElement('div');\n",
              "        docLink.innerHTML = docLinkHtml;\n",
              "        element.appendChild(docLink);\n",
              "      }\n",
              "    </script>\n",
              "  </div>\n",
              "\n",
              "\n",
              "<div id=\"df-77a8b84b-fee6-4fb8-aa43-6dd548e6438e\">\n",
              "  <button class=\"colab-df-quickchart\" onclick=\"quickchart('df-77a8b84b-fee6-4fb8-aa43-6dd548e6438e')\"\n",
              "            title=\"Suggest charts.\"\n",
              "            style=\"display:none;\">\n",
              "\n",
              "<svg xmlns=\"http://www.w3.org/2000/svg\" height=\"24px\"viewBox=\"0 0 24 24\"\n",
              "     width=\"24px\">\n",
              "    <g>\n",
              "        <path d=\"M19 3H5c-1.1 0-2 .9-2 2v14c0 1.1.9 2 2 2h14c1.1 0 2-.9 2-2V5c0-1.1-.9-2-2-2zM9 17H7v-7h2v7zm4 0h-2V7h2v10zm4 0h-2v-4h2v4z\"/>\n",
              "    </g>\n",
              "</svg>\n",
              "  </button>\n",
              "\n",
              "<style>\n",
              "  .colab-df-quickchart {\n",
              "      --bg-color: #E8F0FE;\n",
              "      --fill-color: #1967D2;\n",
              "      --hover-bg-color: #E2EBFA;\n",
              "      --hover-fill-color: #174EA6;\n",
              "      --disabled-fill-color: #AAA;\n",
              "      --disabled-bg-color: #DDD;\n",
              "  }\n",
              "\n",
              "  [theme=dark] .colab-df-quickchart {\n",
              "      --bg-color: #3B4455;\n",
              "      --fill-color: #D2E3FC;\n",
              "      --hover-bg-color: #434B5C;\n",
              "      --hover-fill-color: #FFFFFF;\n",
              "      --disabled-bg-color: #3B4455;\n",
              "      --disabled-fill-color: #666;\n",
              "  }\n",
              "\n",
              "  .colab-df-quickchart {\n",
              "    background-color: var(--bg-color);\n",
              "    border: none;\n",
              "    border-radius: 50%;\n",
              "    cursor: pointer;\n",
              "    display: none;\n",
              "    fill: var(--fill-color);\n",
              "    height: 32px;\n",
              "    padding: 0;\n",
              "    width: 32px;\n",
              "  }\n",
              "\n",
              "  .colab-df-quickchart:hover {\n",
              "    background-color: var(--hover-bg-color);\n",
              "    box-shadow: 0 1px 2px rgba(60, 64, 67, 0.3), 0 1px 3px 1px rgba(60, 64, 67, 0.15);\n",
              "    fill: var(--button-hover-fill-color);\n",
              "  }\n",
              "\n",
              "  .colab-df-quickchart-complete:disabled,\n",
              "  .colab-df-quickchart-complete:disabled:hover {\n",
              "    background-color: var(--disabled-bg-color);\n",
              "    fill: var(--disabled-fill-color);\n",
              "    box-shadow: none;\n",
              "  }\n",
              "\n",
              "  .colab-df-spinner {\n",
              "    border: 2px solid var(--fill-color);\n",
              "    border-color: transparent;\n",
              "    border-bottom-color: var(--fill-color);\n",
              "    animation:\n",
              "      spin 1s steps(1) infinite;\n",
              "  }\n",
              "\n",
              "  @keyframes spin {\n",
              "    0% {\n",
              "      border-color: transparent;\n",
              "      border-bottom-color: var(--fill-color);\n",
              "      border-left-color: var(--fill-color);\n",
              "    }\n",
              "    20% {\n",
              "      border-color: transparent;\n",
              "      border-left-color: var(--fill-color);\n",
              "      border-top-color: var(--fill-color);\n",
              "    }\n",
              "    30% {\n",
              "      border-color: transparent;\n",
              "      border-left-color: var(--fill-color);\n",
              "      border-top-color: var(--fill-color);\n",
              "      border-right-color: var(--fill-color);\n",
              "    }\n",
              "    40% {\n",
              "      border-color: transparent;\n",
              "      border-right-color: var(--fill-color);\n",
              "      border-top-color: var(--fill-color);\n",
              "    }\n",
              "    60% {\n",
              "      border-color: transparent;\n",
              "      border-right-color: var(--fill-color);\n",
              "    }\n",
              "    80% {\n",
              "      border-color: transparent;\n",
              "      border-right-color: var(--fill-color);\n",
              "      border-bottom-color: var(--fill-color);\n",
              "    }\n",
              "    90% {\n",
              "      border-color: transparent;\n",
              "      border-bottom-color: var(--fill-color);\n",
              "    }\n",
              "  }\n",
              "</style>\n",
              "\n",
              "  <script>\n",
              "    async function quickchart(key) {\n",
              "      const quickchartButtonEl =\n",
              "        document.querySelector('#' + key + ' button');\n",
              "      quickchartButtonEl.disabled = true;  // To prevent multiple clicks.\n",
              "      quickchartButtonEl.classList.add('colab-df-spinner');\n",
              "      try {\n",
              "        const charts = await google.colab.kernel.invokeFunction(\n",
              "            'suggestCharts', [key], {});\n",
              "      } catch (error) {\n",
              "        console.error('Error during call to suggestCharts:', error);\n",
              "      }\n",
              "      quickchartButtonEl.classList.remove('colab-df-spinner');\n",
              "      quickchartButtonEl.classList.add('colab-df-quickchart-complete');\n",
              "    }\n",
              "    (() => {\n",
              "      let quickchartButtonEl =\n",
              "        document.querySelector('#df-77a8b84b-fee6-4fb8-aa43-6dd548e6438e button');\n",
              "      quickchartButtonEl.style.display =\n",
              "        google.colab.kernel.accessAllowed ? 'block' : 'none';\n",
              "    })();\n",
              "  </script>\n",
              "</div>\n",
              "    </div>\n",
              "  </div>\n"
            ],
            "text/plain": [
              "                                               texts  target\n",
              "0                            i didnt feel humiliated       4\n",
              "1  i can go from feeling so hopeless to so damned...       4\n",
              "2   im grabbing a minute to post i feel greedy wrong       0\n",
              "3  i am ever feeling nostalgic about the fireplac...       3\n",
              "4                               i am feeling grouchy       0"
            ]
          },
          "execution_count": 11,
          "metadata": {},
          "output_type": "execute_result"
        }
      ],
      "source": [
        "train_df.head()"
      ]
    },
    {
      "cell_type": "code",
      "execution_count": 12,
      "id": "92c31f7d-cd59-45ee-bd29-4bf3ab5a19cf",
      "metadata": {
        "colab": {
          "base_uri": "https://localhost:8080/",
          "height": 206
        },
        "id": "92c31f7d-cd59-45ee-bd29-4bf3ab5a19cf",
        "outputId": "6cc49af1-89b5-49ca-ea7e-254529b66136"
      },
      "outputs": [
        {
          "data": {
            "text/html": [
              "\n",
              "  <div id=\"df-d365d653-a8f5-4158-8ade-9f72fe19d8ba\" class=\"colab-df-container\">\n",
              "    <div>\n",
              "<style scoped>\n",
              "    .dataframe tbody tr th:only-of-type {\n",
              "        vertical-align: middle;\n",
              "    }\n",
              "\n",
              "    .dataframe tbody tr th {\n",
              "        vertical-align: top;\n",
              "    }\n",
              "\n",
              "    .dataframe thead th {\n",
              "        text-align: right;\n",
              "    }\n",
              "</style>\n",
              "<table border=\"1\" class=\"dataframe\">\n",
              "  <thead>\n",
              "    <tr style=\"text-align: right;\">\n",
              "      <th></th>\n",
              "      <th>texts</th>\n",
              "      <th>target</th>\n",
              "    </tr>\n",
              "  </thead>\n",
              "  <tbody>\n",
              "    <tr>\n",
              "      <th>0</th>\n",
              "      <td>im feeling rather rotten so im not very ambiti...</td>\n",
              "      <td>4</td>\n",
              "    </tr>\n",
              "    <tr>\n",
              "      <th>1</th>\n",
              "      <td>im updating my blog because i feel shitty</td>\n",
              "      <td>4</td>\n",
              "    </tr>\n",
              "    <tr>\n",
              "      <th>2</th>\n",
              "      <td>i never make her separate from me because i do...</td>\n",
              "      <td>4</td>\n",
              "    </tr>\n",
              "    <tr>\n",
              "      <th>3</th>\n",
              "      <td>i left with my bouquet of red and yellow tulip...</td>\n",
              "      <td>2</td>\n",
              "    </tr>\n",
              "    <tr>\n",
              "      <th>4</th>\n",
              "      <td>i was feeling a little vain when i did this one</td>\n",
              "      <td>4</td>\n",
              "    </tr>\n",
              "  </tbody>\n",
              "</table>\n",
              "</div>\n",
              "    <div class=\"colab-df-buttons\">\n",
              "\n",
              "  <div class=\"colab-df-container\">\n",
              "    <button class=\"colab-df-convert\" onclick=\"convertToInteractive('df-d365d653-a8f5-4158-8ade-9f72fe19d8ba')\"\n",
              "            title=\"Convert this dataframe to an interactive table.\"\n",
              "            style=\"display:none;\">\n",
              "\n",
              "  <svg xmlns=\"http://www.w3.org/2000/svg\" height=\"24px\" viewBox=\"0 -960 960 960\">\n",
              "    <path d=\"M120-120v-720h720v720H120Zm60-500h600v-160H180v160Zm220 220h160v-160H400v160Zm0 220h160v-160H400v160ZM180-400h160v-160H180v160Zm440 0h160v-160H620v160ZM180-180h160v-160H180v160Zm440 0h160v-160H620v160Z\"/>\n",
              "  </svg>\n",
              "    </button>\n",
              "\n",
              "  <style>\n",
              "    .colab-df-container {\n",
              "      display:flex;\n",
              "      gap: 12px;\n",
              "    }\n",
              "\n",
              "    .colab-df-convert {\n",
              "      background-color: #E8F0FE;\n",
              "      border: none;\n",
              "      border-radius: 50%;\n",
              "      cursor: pointer;\n",
              "      display: none;\n",
              "      fill: #1967D2;\n",
              "      height: 32px;\n",
              "      padding: 0 0 0 0;\n",
              "      width: 32px;\n",
              "    }\n",
              "\n",
              "    .colab-df-convert:hover {\n",
              "      background-color: #E2EBFA;\n",
              "      box-shadow: 0px 1px 2px rgba(60, 64, 67, 0.3), 0px 1px 3px 1px rgba(60, 64, 67, 0.15);\n",
              "      fill: #174EA6;\n",
              "    }\n",
              "\n",
              "    .colab-df-buttons div {\n",
              "      margin-bottom: 4px;\n",
              "    }\n",
              "\n",
              "    [theme=dark] .colab-df-convert {\n",
              "      background-color: #3B4455;\n",
              "      fill: #D2E3FC;\n",
              "    }\n",
              "\n",
              "    [theme=dark] .colab-df-convert:hover {\n",
              "      background-color: #434B5C;\n",
              "      box-shadow: 0px 1px 3px 1px rgba(0, 0, 0, 0.15);\n",
              "      filter: drop-shadow(0px 1px 2px rgba(0, 0, 0, 0.3));\n",
              "      fill: #FFFFFF;\n",
              "    }\n",
              "  </style>\n",
              "\n",
              "    <script>\n",
              "      const buttonEl =\n",
              "        document.querySelector('#df-d365d653-a8f5-4158-8ade-9f72fe19d8ba button.colab-df-convert');\n",
              "      buttonEl.style.display =\n",
              "        google.colab.kernel.accessAllowed ? 'block' : 'none';\n",
              "\n",
              "      async function convertToInteractive(key) {\n",
              "        const element = document.querySelector('#df-d365d653-a8f5-4158-8ade-9f72fe19d8ba');\n",
              "        const dataTable =\n",
              "          await google.colab.kernel.invokeFunction('convertToInteractive',\n",
              "                                                    [key], {});\n",
              "        if (!dataTable) return;\n",
              "\n",
              "        const docLinkHtml = 'Like what you see? Visit the ' +\n",
              "          '<a target=\"_blank\" href=https://colab.research.google.com/notebooks/data_table.ipynb>data table notebook</a>'\n",
              "          + ' to learn more about interactive tables.';\n",
              "        element.innerHTML = '';\n",
              "        dataTable['output_type'] = 'display_data';\n",
              "        await google.colab.output.renderOutput(dataTable, element);\n",
              "        const docLink = document.createElement('div');\n",
              "        docLink.innerHTML = docLinkHtml;\n",
              "        element.appendChild(docLink);\n",
              "      }\n",
              "    </script>\n",
              "  </div>\n",
              "\n",
              "\n",
              "<div id=\"df-893bf4af-1867-4680-9407-124ea6c0e802\">\n",
              "  <button class=\"colab-df-quickchart\" onclick=\"quickchart('df-893bf4af-1867-4680-9407-124ea6c0e802')\"\n",
              "            title=\"Suggest charts.\"\n",
              "            style=\"display:none;\">\n",
              "\n",
              "<svg xmlns=\"http://www.w3.org/2000/svg\" height=\"24px\"viewBox=\"0 0 24 24\"\n",
              "     width=\"24px\">\n",
              "    <g>\n",
              "        <path d=\"M19 3H5c-1.1 0-2 .9-2 2v14c0 1.1.9 2 2 2h14c1.1 0 2-.9 2-2V5c0-1.1-.9-2-2-2zM9 17H7v-7h2v7zm4 0h-2V7h2v10zm4 0h-2v-4h2v4z\"/>\n",
              "    </g>\n",
              "</svg>\n",
              "  </button>\n",
              "\n",
              "<style>\n",
              "  .colab-df-quickchart {\n",
              "      --bg-color: #E8F0FE;\n",
              "      --fill-color: #1967D2;\n",
              "      --hover-bg-color: #E2EBFA;\n",
              "      --hover-fill-color: #174EA6;\n",
              "      --disabled-fill-color: #AAA;\n",
              "      --disabled-bg-color: #DDD;\n",
              "  }\n",
              "\n",
              "  [theme=dark] .colab-df-quickchart {\n",
              "      --bg-color: #3B4455;\n",
              "      --fill-color: #D2E3FC;\n",
              "      --hover-bg-color: #434B5C;\n",
              "      --hover-fill-color: #FFFFFF;\n",
              "      --disabled-bg-color: #3B4455;\n",
              "      --disabled-fill-color: #666;\n",
              "  }\n",
              "\n",
              "  .colab-df-quickchart {\n",
              "    background-color: var(--bg-color);\n",
              "    border: none;\n",
              "    border-radius: 50%;\n",
              "    cursor: pointer;\n",
              "    display: none;\n",
              "    fill: var(--fill-color);\n",
              "    height: 32px;\n",
              "    padding: 0;\n",
              "    width: 32px;\n",
              "  }\n",
              "\n",
              "  .colab-df-quickchart:hover {\n",
              "    background-color: var(--hover-bg-color);\n",
              "    box-shadow: 0 1px 2px rgba(60, 64, 67, 0.3), 0 1px 3px 1px rgba(60, 64, 67, 0.15);\n",
              "    fill: var(--button-hover-fill-color);\n",
              "  }\n",
              "\n",
              "  .colab-df-quickchart-complete:disabled,\n",
              "  .colab-df-quickchart-complete:disabled:hover {\n",
              "    background-color: var(--disabled-bg-color);\n",
              "    fill: var(--disabled-fill-color);\n",
              "    box-shadow: none;\n",
              "  }\n",
              "\n",
              "  .colab-df-spinner {\n",
              "    border: 2px solid var(--fill-color);\n",
              "    border-color: transparent;\n",
              "    border-bottom-color: var(--fill-color);\n",
              "    animation:\n",
              "      spin 1s steps(1) infinite;\n",
              "  }\n",
              "\n",
              "  @keyframes spin {\n",
              "    0% {\n",
              "      border-color: transparent;\n",
              "      border-bottom-color: var(--fill-color);\n",
              "      border-left-color: var(--fill-color);\n",
              "    }\n",
              "    20% {\n",
              "      border-color: transparent;\n",
              "      border-left-color: var(--fill-color);\n",
              "      border-top-color: var(--fill-color);\n",
              "    }\n",
              "    30% {\n",
              "      border-color: transparent;\n",
              "      border-left-color: var(--fill-color);\n",
              "      border-top-color: var(--fill-color);\n",
              "      border-right-color: var(--fill-color);\n",
              "    }\n",
              "    40% {\n",
              "      border-color: transparent;\n",
              "      border-right-color: var(--fill-color);\n",
              "      border-top-color: var(--fill-color);\n",
              "    }\n",
              "    60% {\n",
              "      border-color: transparent;\n",
              "      border-right-color: var(--fill-color);\n",
              "    }\n",
              "    80% {\n",
              "      border-color: transparent;\n",
              "      border-right-color: var(--fill-color);\n",
              "      border-bottom-color: var(--fill-color);\n",
              "    }\n",
              "    90% {\n",
              "      border-color: transparent;\n",
              "      border-bottom-color: var(--fill-color);\n",
              "    }\n",
              "  }\n",
              "</style>\n",
              "\n",
              "  <script>\n",
              "    async function quickchart(key) {\n",
              "      const quickchartButtonEl =\n",
              "        document.querySelector('#' + key + ' button');\n",
              "      quickchartButtonEl.disabled = true;  // To prevent multiple clicks.\n",
              "      quickchartButtonEl.classList.add('colab-df-spinner');\n",
              "      try {\n",
              "        const charts = await google.colab.kernel.invokeFunction(\n",
              "            'suggestCharts', [key], {});\n",
              "      } catch (error) {\n",
              "        console.error('Error during call to suggestCharts:', error);\n",
              "      }\n",
              "      quickchartButtonEl.classList.remove('colab-df-spinner');\n",
              "      quickchartButtonEl.classList.add('colab-df-quickchart-complete');\n",
              "    }\n",
              "    (() => {\n",
              "      let quickchartButtonEl =\n",
              "        document.querySelector('#df-893bf4af-1867-4680-9407-124ea6c0e802 button');\n",
              "      quickchartButtonEl.style.display =\n",
              "        google.colab.kernel.accessAllowed ? 'block' : 'none';\n",
              "    })();\n",
              "  </script>\n",
              "</div>\n",
              "    </div>\n",
              "  </div>\n"
            ],
            "text/plain": [
              "                                               texts  target\n",
              "0  im feeling rather rotten so im not very ambiti...       4\n",
              "1          im updating my blog because i feel shitty       4\n",
              "2  i never make her separate from me because i do...       4\n",
              "3  i left with my bouquet of red and yellow tulip...       2\n",
              "4    i was feeling a little vain when i did this one       4"
            ]
          },
          "execution_count": 12,
          "metadata": {},
          "output_type": "execute_result"
        }
      ],
      "source": [
        "test_df.head()"
      ]
    },
    {
      "cell_type": "code",
      "execution_count": 13,
      "id": "f14d5b40-7bc3-419c-93ba-5342e3aab1d2",
      "metadata": {
        "id": "f14d5b40-7bc3-419c-93ba-5342e3aab1d2"
      },
      "outputs": [],
      "source": [
        "X_train = train_df['texts'].to_numpy()\n",
        "y_train = train_df['target'].to_numpy()\n",
        "\n",
        "X_test = test_df['texts'].to_numpy()\n",
        "y_test = test_df['target'].to_numpy()"
      ]
    },
    {
      "cell_type": "code",
      "execution_count": 14,
      "id": "17b0d90c-3c97-4e11-bcf1-d441e36a79b4",
      "metadata": {
        "colab": {
          "base_uri": "https://localhost:8080/"
        },
        "id": "17b0d90c-3c97-4e11-bcf1-d441e36a79b4",
        "outputId": "cb9931ff-4468-460d-bdb4-0227536e917a"
      },
      "outputs": [
        {
          "data": {
            "text/plain": [
              "(array(['i didnt feel humiliated',\n",
              "        'i can go from feeling so hopeless to so damned hopeful just from being around someone who cares and is awake',\n",
              "        'im grabbing a minute to post i feel greedy wrong', ...,\n",
              "        'i feel strong and good overall',\n",
              "        'i feel like this was such a rude comment and im glad that t',\n",
              "        'i know a lot but i feel so stupid because i can not portray it'],\n",
              "       dtype=object),\n",
              " (16000,))"
            ]
          },
          "execution_count": 14,
          "metadata": {},
          "output_type": "execute_result"
        }
      ],
      "source": [
        "X_train, X_train.shape"
      ]
    },
    {
      "cell_type": "markdown",
      "id": "b1152ec6-e727-4abb-8d28-c5b58a667bc3",
      "metadata": {
        "id": "b1152ec6-e727-4abb-8d28-c5b58a667bc3"
      },
      "source": [
        "## Setting up TextVectorization Layer"
      ]
    },
    {
      "cell_type": "code",
      "execution_count": 15,
      "id": "29533673-4894-47f7-9cfb-c5973bfe2e5c",
      "metadata": {
        "colab": {
          "base_uri": "https://localhost:8080/",
          "height": 465
        },
        "id": "29533673-4894-47f7-9cfb-c5973bfe2e5c",
        "outputId": "9c2e7618-e26a-4545-e167-c58175b003fe"
      },
      "outputs": [
        {
          "name": "stdout",
          "output_type": "stream",
          "text": [
            "Average Tokens per Tweet is : 19 tokens\n",
            "95% of our data has : 41 tokens\n"
          ]
        },
        {
          "data": {
            "image/png": "[encoded data removed]",
            "text/plain": [
              "<Figure size 640x480 with 1 Axes>"
            ]
          },
          "metadata": {},
          "output_type": "display_data"
        }
      ],
      "source": [
        "# find the average number of tokens per sentence\n",
        "texts_length = [len(text.split()) for text in X_train]\n",
        "plt.hist(texts_length)\n",
        "\n",
        "np.percentile(texts_length, 95)\n",
        "average_tokens_per_tweet = round(sum(texts_length)/X_train.shape[0])\n",
        "print(f'Average Tokens per Tweet is : {average_tokens_per_tweet} tokens')\n",
        "print(f'95% of our data has : {int(np.percentile(texts_length, 95))} tokens')"
      ]
    },
    {
      "cell_type": "code",
      "execution_count": 16,
      "id": "5a0c0e84-698f-4260-9908-6efd89fe4538",
      "metadata": {
        "id": "5a0c0e84-698f-4260-9908-6efd89fe4538"
      },
      "outputs": [],
      "source": [
        "# Building Tensorflow TextVectorization Layer\n",
        "from tensorflow.keras.layers import TextVectorization\n",
        "\n",
        "max_vocab_size = 30000\n",
        "max_length = 45\n",
        "\n",
        "text_vectorizer = TextVectorization(max_tokens=max_vocab_size, # how many words in the vocabulary\n",
        "                                    output_sequence_length=max_length,\n",
        "                                    output_mode='int')\n",
        "\n",
        "# Fit the text_vectorizer to train_data\n",
        "text_vectorizer.adapt(X_train)"
      ]
    },
    {
      "cell_type": "code",
      "execution_count": 17,
      "id": "11cdce80-493f-4307-958a-c5a5d506a70d",
      "metadata": {
        "colab": {
          "base_uri": "https://localhost:8080/"
        },
        "id": "11cdce80-493f-4307-958a-c5a5d506a70d",
        "outputId": "45e40617-7453-43e4-c4f9-deae326bfc75"
      },
      "outputs": [
        {
          "name": "stdout",
          "output_type": "stream",
          "text": [
            "Original Tweet : \n",
            " i wonder how it feels to have angered and disappointed millions of people in one morning\n",
            "Vectorized Tweet : \n",
            " [[   2  530   53   13  123    5   21 1609    4  436 2888   10   63   12\n",
            "    71  237    0    0    0    0    0    0    0    0    0    0    0    0\n",
            "     0    0    0    0    0    0    0    0    0    0    0    0    0    0\n",
            "     0    0    0]]\n",
            " Shape = (1, 45)\n"
          ]
        }
      ],
      "source": [
        "# visualize random setence without and with Text-Vectorization\n",
        "import random\n",
        "random_tweet = random.choice(X_train)\n",
        "print(f'Original Tweet : \\n {random_tweet}')\n",
        "text_vectorized_tweet = text_vectorizer([random_tweet])\n",
        "print(f'Vectorized Tweet : \\n {text_vectorized_tweet}\\n Shape = {text_vectorized_tweet.shape}')"
      ]
    },
    {
      "cell_type": "code",
      "execution_count": 18,
      "id": "Rec-goQESLvm",
      "metadata": {
        "colab": {
          "base_uri": "https://localhost:8080/"
        },
        "id": "Rec-goQESLvm",
        "outputId": "5e8fd1f5-9bcc-4deb-87f4-764c08c15518"
      },
      "outputs": [
        {
          "data": {
            "text/plain": [
              "<tf.Tensor: shape=(16000, 45), dtype=int64, numpy=\n",
              "array([[   2,  140,    3, ...,    0,    0,    0],\n",
              "       [   2,   40,  102, ...,    0,    0,    0],\n",
              "       [  17, 3316,    7, ...,    0,    0,    0],\n",
              "       ...,\n",
              "       [   2,    3,  326, ...,    0,    0,    0],\n",
              "       [   2,    3,   14, ...,    0,    0,    0],\n",
              "       [   2,   47,    7, ...,    0,    0,    0]])>"
            ]
          },
          "execution_count": 18,
          "metadata": {},
          "output_type": "execute_result"
        }
      ],
      "source": [
        "vectorized_X = text_vectorizer(X_train)\n",
        "vectorized_X"
      ]
    },
    {
      "cell_type": "markdown",
      "id": "ae450a1c-679f-4860-aa6f-d0f4a80853a0",
      "metadata": {
        "id": "ae450a1c-679f-4860-aa6f-d0f4a80853a0"
      },
      "source": [
        "## Making faster data input pipelines"
      ]
    },
    {
      "cell_type": "code",
      "execution_count": 19,
      "id": "A0dL-BTYSlzw",
      "metadata": {
        "id": "A0dL-BTYSlzw"
      },
      "outputs": [],
      "source": [
        "train_labels_one_hot = tf.one_hot(y_train, depth=len(lr.classes_))\n",
        "test_labels_one_hot = tf.one_hot(y_test, depth=len(lr.classes_))"
      ]
    },
    {
      "cell_type": "code",
      "execution_count": 20,
      "id": "K-ojU65pS6Z6",
      "metadata": {
        "colab": {
          "base_uri": "https://localhost:8080/"
        },
        "id": "K-ojU65pS6Z6",
        "outputId": "c05bac65-4220-4206-f303-f49a91b73236"
      },
      "outputs": [
        {
          "data": {
            "text/plain": [
              "<tf.Tensor: shape=(16000, 6), dtype=float32, numpy=\n",
              "array([[0., 0., 0., 0., 1., 0.],\n",
              "       [0., 0., 0., 0., 1., 0.],\n",
              "       [1., 0., 0., 0., 0., 0.],\n",
              "       ...,\n",
              "       [0., 0., 1., 0., 0., 0.],\n",
              "       [1., 0., 0., 0., 0., 0.],\n",
              "       [0., 0., 0., 0., 1., 0.]], dtype=float32)>"
            ]
          },
          "execution_count": 20,
          "metadata": {},
          "output_type": "execute_result"
        }
      ],
      "source": [
        "train_labels_one_hot"
      ]
    },
    {
      "cell_type": "code",
      "execution_count": 21,
      "id": "bgCpTvidSLMc",
      "metadata": {
        "id": "bgCpTvidSLMc"
      },
      "outputs": [],
      "source": [
        "# Turn our data into TensorFlow Datasets\n",
        "train_data = tf.data.Dataset.from_tensor_slices((vectorized_X,\n",
        "\t\t\t\t\t\t\t\t\t\t\t\ttrain_labels_one_hot))\n",
        "train_data = train_data.batch(32).prefetch(tf.data.AUTOTUNE)\n",
        "\n",
        "\n",
        "# Turn our data into TensorFlow Datasets\n",
        "test_data = tf.data.Dataset.from_tensor_slices((text_vectorizer(X_test),\n",
        "\t\t\t\t\t\t\t\t\t\t\t\ttest_labels_one_hot))\n",
        "test_data = test_data.batch(32).prefetch(tf.data.AUTOTUNE)"
      ]
    },
    {
      "cell_type": "code",
      "execution_count": 22,
      "id": "7WWiyJs1TH3L",
      "metadata": {
        "colab": {
          "base_uri": "https://localhost:8080/"
        },
        "id": "7WWiyJs1TH3L",
        "outputId": "e17bec8e-20c3-4534-cfa3-ab9c7352768f"
      },
      "outputs": [
        {
          "data": {
            "text/plain": [
              "<_PrefetchDataset element_spec=(TensorSpec(shape=(None, 45), dtype=tf.int64, name=None), TensorSpec(shape=(None, 6), dtype=tf.float32, name=None))>"
            ]
          },
          "execution_count": 22,
          "metadata": {},
          "output_type": "execute_result"
        }
      ],
      "source": [
        "train_data"
      ]
    },
    {
      "cell_type": "code",
      "execution_count": 23,
      "id": "3pAw-ovFTH5Z",
      "metadata": {
        "colab": {
          "base_uri": "https://localhost:8080/"
        },
        "id": "3pAw-ovFTH5Z",
        "outputId": "124b78e6-10b0-4b67-a9f6-522490176304"
      },
      "outputs": [
        {
          "data": {
            "text/plain": [
              "((32, 45), (32, 6))"
            ]
          },
          "execution_count": 23,
          "metadata": {},
          "output_type": "execute_result"
        }
      ],
      "source": [
        "batchX, batchY = train_data.as_numpy_iterator().next()\n",
        "batchX.shape, batchY.shape"
      ]
    },
    {
      "cell_type": "code",
      "execution_count": 24,
      "id": "h1_GXagDTH7g",
      "metadata": {
        "colab": {
          "base_uri": "https://localhost:8080/"
        },
        "id": "h1_GXagDTH7g",
        "outputId": "ebf3e2bb-ec53-4777-a7d1-e65ee96986c5"
      },
      "outputs": [
        {
          "data": {
            "text/plain": [
              "(array([[   2,  140,    3, ...,    0,    0,    0],\n",
              "        [   2,   40,  102, ...,    0,    0,    0],\n",
              "        [  17, 3316,    7, ...,    0,    0,    0],\n",
              "        ...,\n",
              "        [   2,    3,   38, ...,    0,    0,    0],\n",
              "        [   2,   55, 3321, ...,    0,    0,    0],\n",
              "        [   2,  190,    9, ...,    0,    0,    0]]),\n",
              " array([[0., 0., 0., 0., 1., 0.],\n",
              "        [0., 0., 0., 0., 1., 0.],\n",
              "        [1., 0., 0., 0., 0., 0.],\n",
              "        [0., 0., 0., 1., 0., 0.],\n",
              "        [1., 0., 0., 0., 0., 0.],\n",
              "        [0., 0., 0., 0., 1., 0.],\n",
              "        [0., 0., 0., 0., 0., 1.],\n",
              "        [0., 1., 0., 0., 0., 0.],\n",
              "        [0., 0., 1., 0., 0., 0.],\n",
              "        [0., 0., 0., 1., 0., 0.],\n",
              "        [0., 0., 0., 0., 1., 0.],\n",
              "        [0., 0., 1., 0., 0., 0.],\n",
              "        [1., 0., 0., 0., 0., 0.],\n",
              "        [0., 0., 0., 0., 1., 0.],\n",
              "        [0., 0., 1., 0., 0., 0.],\n",
              "        [0., 0., 1., 0., 0., 0.],\n",
              "        [0., 0., 0., 0., 1., 0.],\n",
              "        [0., 0., 0., 0., 1., 0.],\n",
              "        [0., 0., 0., 0., 1., 0.],\n",
              "        [0., 1., 0., 0., 0., 0.],\n",
              "        [1., 0., 0., 0., 0., 0.],\n",
              "        [0., 1., 0., 0., 0., 0.],\n",
              "        [0., 0., 1., 0., 0., 0.],\n",
              "        [0., 0., 1., 0., 0., 0.],\n",
              "        [1., 0., 0., 0., 0., 0.],\n",
              "        [0., 0., 0., 0., 1., 0.],\n",
              "        [0., 0., 0., 0., 1., 0.],\n",
              "        [0., 0., 0., 0., 1., 0.],\n",
              "        [1., 0., 0., 0., 0., 0.],\n",
              "        [0., 0., 1., 0., 0., 0.],\n",
              "        [0., 0., 1., 0., 0., 0.],\n",
              "        [0., 1., 0., 0., 0., 0.]], dtype=float32))"
            ]
          },
          "execution_count": 24,
          "metadata": {},
          "output_type": "execute_result"
        }
      ],
      "source": [
        "batchX, batchY"
      ]
    },
    {
      "cell_type": "markdown",
      "id": "0cdee729-856b-4640-806c-21fd322be1bf",
      "metadata": {
        "id": "0cdee729-856b-4640-806c-21fd322be1bf"
      },
      "source": [
        "## Model Building"
      ]
    },
    {
      "cell_type": "code",
      "execution_count": 25,
      "id": "zgczqjyYTUj_",
      "metadata": {
        "id": "zgczqjyYTUj_"
      },
      "outputs": [],
      "source": [
        "# setting up callbacks\n",
        "import os\n",
        "\n",
        "# Create a function to implement a ModelCheckpoint callback with a specific filename\n",
        "def create_model_checkpoint(model_name, save_path=\"model_experiments\"):\n",
        "  return tf.keras.callbacks.ModelCheckpoint(filepath=os.path.join(save_path, model_name), # create filepath to save model\n",
        "                                            verbose=0, # only output a limited amount of text\n",
        "                                            save_best_only=True) # save only the best model to file"
      ]
    },
    {
      "cell_type": "code",
      "execution_count": 38,
      "id": "2s7mgijmTePA",
      "metadata": {
        "id": "2s7mgijmTePA"
      },
      "outputs": [],
      "source": [
        "import tensorflow as tf\n",
        "from tensorflow import keras\n",
        "from keras.models import Sequential\n",
        "from keras.layers import Input, Embedding, Bidirectional, LSTM, Dense, Dropout"
      ]
    },
    {
      "cell_type": "code",
      "execution_count": 39,
      "id": "ep_ZaQE5Tmqp",
      "metadata": {
        "id": "ep_ZaQE5Tmqp"
      },
      "outputs": [],
      "source": [
        "model = Sequential()\n",
        "model.add(Embedding(input_dim=len(text_vectorizer.get_vocabulary()), output_dim=128, input_length=max_length))\n",
        "model.add(Bidirectional(LSTM(64, activation='tanh', return_sequences=True)))\n",
        "model.add(Bidirectional(LSTM(64, activation='tanh')))\n",
        "model.add(Dense(64, activation='relu'))\n",
        "model.add(Dense(32, activation='relu'))\n",
        "model.add(Dense(len(lr.classes_), activation='softmax'))"
      ]
    },
    {
      "cell_type": "code",
      "execution_count": 40,
      "id": "U9K0sFZKTmsR",
      "metadata": {
        "id": "U9K0sFZKTmsR"
      },
      "outputs": [],
      "source": [
        "model.compile(\n",
        "    loss=tf.keras.losses.CategoricalCrossentropy(),\n",
        "    optimizer=tf.keras.optimizers.Adam(learning_rate=0.001),\n",
        "    metrics=['accuracy']\n",
        ")"
      ]
    },
    {
      "cell_type": "code",
      "execution_count": 41,
      "id": "7HvyvHWRUfjC",
      "metadata": {
        "colab": {
          "base_uri": "https://localhost:8080/"
        },
        "id": "7HvyvHWRUfjC",
        "outputId": "99feb6d3-ac5c-4844-dd53-808e61a8eeb1"
      },
      "outputs": [
        {
          "name": "stdout",
          "output_type": "stream",
          "text": [
            "Model: \"sequential\"\n",
            "_________________________________________________________________\n",
            " Layer (type)                Output Shape              Param #   \n",
            "=================================================================\n",
            " embedding_3 (Embedding)     (None, 45, 128)           1947392   \n",
            "                                                                 \n",
            " bidirectional_4 (Bidirectio  (None, 45, 128)          98816     \n",
            " nal)                                                            \n",
            "                                                                 \n",
            " bidirectional_5 (Bidirectio  (None, 128)              98816     \n",
            " nal)                                                            \n",
            "                                                                 \n",
            " dense_3 (Dense)             (None, 64)                8256      \n",
            "                                                                 \n",
            " dense_4 (Dense)             (None, 32)                2080      \n",
            "                                                                 \n",
            " dense_5 (Dense)             (None, 6)                 198       \n",
            "                                                                 \n",
            "=================================================================\n",
            "Total params: 2,155,558\n",
            "Trainable params: 2,155,558\n",
            "Non-trainable params: 0\n",
            "_________________________________________________________________\n"
          ]
        }
      ],
      "source": [
        "model.summary()"
      ]
    },
    {
      "cell_type": "code",
      "execution_count": 42,
      "id": "GxkoB863Uflj",
      "metadata": {
        "colab": {
          "base_uri": "https://localhost:8080/"
        },
        "id": "GxkoB863Uflj",
        "outputId": "9e1faf5e-dd1c-4cfe-b504-cdd377356bbf"
      },
      "outputs": [
        {
          "name": "stdout",
          "output_type": "stream",
          "text": [
            "Epoch 1/20\n",
            "497/500 [============================>.] - ETA: 0s - loss: 1.0884 - accuracy: 0.5858"
          ]
        },
        {
          "name": "stderr",
          "output_type": "stream",
          "text": [
            "WARNING:absl:Found untraced functions such as lstm_cell_13_layer_call_fn, lstm_cell_13_layer_call_and_return_conditional_losses, lstm_cell_14_layer_call_fn, lstm_cell_14_layer_call_and_return_conditional_losses, lstm_cell_16_layer_call_fn while saving (showing 5 of 8). These functions will not be directly callable after loading.\n"
          ]
        },
        {
          "name": "stdout",
          "output_type": "stream",
          "text": [
            "\b\b\b\b\b\b\b\b\b\b\b\b\b\b\b\b\b\b\b\b\b\b\b\b\b\b\b\b\b\b\b\b\b\b\b\b\b\b\b\b\b\b\b\b\b\b\b\b\b\b\b\b\b\b\b\b\b\b\b\b\b\b\b\b\b\b\b\b\b\b\b\b\b\b\b\b\b\b\b\b\b\b\b\b\r500/500 [==============================] - 71s 117ms/step - loss: 1.0855 - accuracy: 0.5871 - val_loss: 0.5111 - val_accuracy: 0.8390\n",
            "Epoch 2/20\n",
            "496/500 [============================>.] - ETA: 0s - loss: 0.2846 - accuracy: 0.9027"
          ]
        },
        {
          "name": "stderr",
          "output_type": "stream",
          "text": [
            "WARNING:absl:Found untraced functions such as lstm_cell_13_layer_call_fn, lstm_cell_13_layer_call_and_return_conditional_losses, lstm_cell_14_layer_call_fn, lstm_cell_14_layer_call_and_return_conditional_losses, lstm_cell_16_layer_call_fn while saving (showing 5 of 8). These functions will not be directly callable after loading.\n"
          ]
        },
        {
          "name": "stdout",
          "output_type": "stream",
          "text": [
            "\b\b\b\b\b\b\b\b\b\b\b\b\b\b\b\b\b\b\b\b\b\b\b\b\b\b\b\b\b\b\b\b\b\b\b\b\b\b\b\b\b\b\b\b\b\b\b\b\b\b\b\b\b\b\b\b\b\b\b\b\b\b\b\b\b\b\b\b\b\b\b\b\b\b\b\b\b\b\b\b\b\b\b\b\r500/500 [==============================] - 37s 75ms/step - loss: 0.2842 - accuracy: 0.9028 - val_loss: 0.3136 - val_accuracy: 0.9020\n",
            "Epoch 3/20\n",
            "500/500 [==============================] - ETA: 0s - loss: 0.1545 - accuracy: 0.9473"
          ]
        },
        {
          "name": "stderr",
          "output_type": "stream",
          "text": [
            "WARNING:absl:Found untraced functions such as lstm_cell_13_layer_call_fn, lstm_cell_13_layer_call_and_return_conditional_losses, lstm_cell_14_layer_call_fn, lstm_cell_14_layer_call_and_return_conditional_losses, lstm_cell_16_layer_call_fn while saving (showing 5 of 8). These functions will not be directly callable after loading.\n"
          ]
        },
        {
          "name": "stdout",
          "output_type": "stream",
          "text": [
            "\b\b\b\b\b\b\b\b\b\b\b\b\b\b\b\b\b\b\b\b\b\b\b\b\b\b\b\b\b\b\b\b\b\b\b\b\b\b\b\b\b\b\b\b\b\b\b\b\b\b\b\b\b\b\b\b\b\b\b\b\b\b\b\b\b\b\b\b\b\b\b\b\b\b\b\b\b\b\b\b\b\b\b\b\r500/500 [==============================] - 42s 83ms/step - loss: 0.1545 - accuracy: 0.9473 - val_loss: 0.2937 - val_accuracy: 0.9090\n",
            "Epoch 4/20\n",
            "499/500 [============================>.] - ETA: 0s - loss: 0.1015 - accuracy: 0.9654"
          ]
        },
        {
          "name": "stderr",
          "output_type": "stream",
          "text": [
            "WARNING:absl:Found untraced functions such as lstm_cell_13_layer_call_fn, lstm_cell_13_layer_call_and_return_conditional_losses, lstm_cell_14_layer_call_fn, lstm_cell_14_layer_call_and_return_conditional_losses, lstm_cell_16_layer_call_fn while saving (showing 5 of 8). These functions will not be directly callable after loading.\n"
          ]
        },
        {
          "name": "stdout",
          "output_type": "stream",
          "text": [
            "\b\b\b\b\b\b\b\b\b\b\b\b\b\b\b\b\b\b\b\b\b\b\b\b\b\b\b\b\b\b\b\b\b\b\b\b\b\b\b\b\b\b\b\b\b\b\b\b\b\b\b\b\b\b\b\b\b\b\b\b\b\b\b\b\b\b\b\b\b\b\b\b\b\b\b\b\b\b\b\b\b\b\b\b\r500/500 [==============================] - 37s 73ms/step - loss: 0.1016 - accuracy: 0.9653 - val_loss: 0.2776 - val_accuracy: 0.9170\n",
            "Epoch 5/20\n",
            "500/500 [==============================] - 10s 21ms/step - loss: 0.0788 - accuracy: 0.9731 - val_loss: 0.2982 - val_accuracy: 0.9135\n",
            "Epoch 6/20\n",
            "500/500 [==============================] - 12s 25ms/step - loss: 0.0623 - accuracy: 0.9785 - val_loss: 0.3380 - val_accuracy: 0.9185\n",
            "Epoch 7/20\n",
            "500/500 [==============================] - 14s 28ms/step - loss: 0.0518 - accuracy: 0.9834 - val_loss: 0.3739 - val_accuracy: 0.9100\n",
            "Epoch 8/20\n",
            "500/500 [==============================] - 9s 18ms/step - loss: 0.0471 - accuracy: 0.9842 - val_loss: 0.3288 - val_accuracy: 0.9105\n",
            "Epoch 9/20\n",
            "500/500 [==============================] - 10s 21ms/step - loss: 0.0370 - accuracy: 0.9874 - val_loss: 0.3260 - val_accuracy: 0.9145\n",
            "Epoch 10/20\n",
            "500/500 [==============================] - 9s 17ms/step - loss: 0.0331 - accuracy: 0.9885 - val_loss: 0.4099 - val_accuracy: 0.9115\n",
            "Epoch 11/20\n",
            "500/500 [==============================] - 10s 21ms/step - loss: 0.0416 - accuracy: 0.9859 - val_loss: 0.3437 - val_accuracy: 0.9130\n",
            "Epoch 12/20\n",
            "500/500 [==============================] - 10s 20ms/step - loss: 0.0297 - accuracy: 0.9899 - val_loss: 0.3912 - val_accuracy: 0.9075\n",
            "Epoch 13/20\n",
            "500/500 [==============================] - 11s 22ms/step - loss: 0.0336 - accuracy: 0.9882 - val_loss: 0.4382 - val_accuracy: 0.9125\n",
            "Epoch 14/20\n",
            "500/500 [==============================] - 12s 24ms/step - loss: 0.0283 - accuracy: 0.9903 - val_loss: 0.3668 - val_accuracy: 0.9105\n",
            "Epoch 15/20\n",
            "500/500 [==============================] - 12s 25ms/step - loss: 0.0202 - accuracy: 0.9925 - val_loss: 0.3907 - val_accuracy: 0.9100\n",
            "Epoch 16/20\n",
            "500/500 [==============================] - 7s 15ms/step - loss: 0.0196 - accuracy: 0.9931 - val_loss: 0.3642 - val_accuracy: 0.9105\n",
            "Epoch 17/20\n",
            "500/500 [==============================] - 8s 15ms/step - loss: 0.0153 - accuracy: 0.9939 - val_loss: 0.4275 - val_accuracy: 0.9120\n",
            "Epoch 18/20\n",
            "500/500 [==============================] - 7s 14ms/step - loss: 0.0189 - accuracy: 0.9928 - val_loss: 0.4075 - val_accuracy: 0.9060\n",
            "Epoch 19/20\n",
            "500/500 [==============================] - 7s 15ms/step - loss: 0.0225 - accuracy: 0.9916 - val_loss: 0.3730 - val_accuracy: 0.9095\n",
            "Epoch 20/20\n",
            "500/500 [==============================] - 7s 14ms/step - loss: 0.0208 - accuracy: 0.9924 - val_loss: 0.4113 - val_accuracy: 0.9220\n"
          ]
        }
      ],
      "source": [
        "history = model.fit(train_data, epochs=20, validation_data=test_data,\n",
        "                    callbacks=[create_model_checkpoint(model_name='Bi_LSTM_dense')])"
      ]
    },
    {
      "cell_type": "markdown",
      "id": "gUJ9CnqiVwch",
      "metadata": {
        "id": "gUJ9CnqiVwch"
      },
      "source": [
        "## Conv1D model"
      ]
    },
    {
      "cell_type": "code",
      "execution_count": 43,
      "id": "W8bSwD3QV2HJ",
      "metadata": {
        "id": "W8bSwD3QV2HJ"
      },
      "outputs": [],
      "source": [
        "from keras.layers import Conv1D, MaxPooling1D, Flatten"
      ]
    },
    {
      "cell_type": "code",
      "execution_count": 44,
      "id": "ymaF8UEQVyVU",
      "metadata": {
        "id": "ymaF8UEQVyVU"
      },
      "outputs": [],
      "source": [
        "cnn_model = Sequential()\n",
        "cnn_model.add(Embedding(input_dim=len(text_vectorizer.get_vocabulary()), output_dim=128, input_length=max_length))\n",
        "cnn_model.add(Conv1D(filters=64, kernel_size=5, activation='relu'))\n",
        "cnn_model.add(MaxPooling1D(pool_size=2, strides=2))\n",
        "cnn_model.add(Conv1D(filters=64, kernel_size=5, activation='relu'))\n",
        "cnn_model.add(MaxPooling1D(pool_size=2, strides=2))\n",
        "cnn_model.add(Flatten())\n",
        "cnn_model.add(Dense(64, activation='relu'))\n",
        "cnn_model.add(Dense(32, activation='relu'))\n",
        "cnn_model.add(Dense(len(lr.classes_), activation='softmax'))\n",
        "\n",
        "cnn_model.compile(\n",
        "    loss=tf.keras.losses.CategoricalCrossentropy(),\n",
        "    optimizer=tf.keras.optimizers.Adam(learning_rate=0.001),\n",
        "    metrics=['accuracy']\n",
        ")"
      ]
    },
    {
      "cell_type": "code",
      "execution_count": 45,
      "id": "NNM-S636VyXZ",
      "metadata": {
        "colab": {
          "base_uri": "https://localhost:8080/"
        },
        "id": "NNM-S636VyXZ",
        "outputId": "14fef6f7-c011-4e44-9ccc-b2b3820c4da9"
      },
      "outputs": [
        {
          "name": "stdout",
          "output_type": "stream",
          "text": [
            "Model: \"sequential_1\"\n",
            "_________________________________________________________________\n",
            " Layer (type)                Output Shape              Param #   \n",
            "=================================================================\n",
            " embedding_4 (Embedding)     (None, 45, 128)           1947392   \n",
            "                                                                 \n",
            " conv1d (Conv1D)             (None, 41, 64)            41024     \n",
            "                                                                 \n",
            " max_pooling1d (MaxPooling1D  (None, 20, 64)           0         \n",
            " )                                                               \n",
            "                                                                 \n",
            " conv1d_1 (Conv1D)           (None, 16, 64)            20544     \n",
            "                                                                 \n",
            " max_pooling1d_1 (MaxPooling  (None, 8, 64)            0         \n",
            " 1D)                                                             \n",
            "                                                                 \n",
            " flatten (Flatten)           (None, 512)               0         \n",
            "                                                                 \n",
            " dense_6 (Dense)             (None, 64)                32832     \n",
            "                                                                 \n",
            " dense_7 (Dense)             (None, 32)                2080      \n",
            "                                                                 \n",
            " dense_8 (Dense)             (None, 6)                 198       \n",
            "                                                                 \n",
            "=================================================================\n",
            "Total params: 2,044,070\n",
            "Trainable params: 2,044,070\n",
            "Non-trainable params: 0\n",
            "_________________________________________________________________\n"
          ]
        }
      ],
      "source": [
        "cnn_model.summary()"
      ]
    },
    {
      "cell_type": "code",
      "execution_count": 46,
      "id": "ebBi56SpWl2l",
      "metadata": {
        "colab": {
          "base_uri": "https://localhost:8080/"
        },
        "id": "ebBi56SpWl2l",
        "outputId": "9c2e54cc-1561-4f1d-fc4e-d7b0afe6f6fb"
      },
      "outputs": [
        {
          "name": "stdout",
          "output_type": "stream",
          "text": [
            "Epoch 1/20\n",
            "493/500 [============================>.] - ETA: 0s - loss: 1.1215 - accuracy: 0.5474"
          ]
        },
        {
          "name": "stderr",
          "output_type": "stream",
          "text": [
            "WARNING:absl:Found untraced functions such as _jit_compiled_convolution_op, _jit_compiled_convolution_op while saving (showing 2 of 2). These functions will not be directly callable after loading.\n"
          ]
        },
        {
          "name": "stdout",
          "output_type": "stream",
          "text": [
            "\b\b\b\b\b\b\b\b\b\b\b\b\b\b\b\b\b\b\b\b\b\b\b\b\b\b\b\b\b\b\b\b\b\b\b\b\b\b\b\b\b\b\b\b\b\b\b\b\b\b\b\b\b\b\b\b\b\b\b\b\b\b\b\b\b\b\b\b\b\b\b\b\b\b\b\b\b\b\b\b\b\b\b\b\r500/500 [==============================] - 29s 44ms/step - loss: 1.1154 - accuracy: 0.5502 - val_loss: 0.5315 - val_accuracy: 0.8115\n",
            "Epoch 2/20\n",
            "495/500 [============================>.] - ETA: 0s - loss: 0.3229 - accuracy: 0.8849"
          ]
        },
        {
          "name": "stderr",
          "output_type": "stream",
          "text": [
            "WARNING:absl:Found untraced functions such as _jit_compiled_convolution_op, _jit_compiled_convolution_op while saving (showing 2 of 2). These functions will not be directly callable after loading.\n"
          ]
        },
        {
          "name": "stdout",
          "output_type": "stream",
          "text": [
            "\b\b\b\b\b\b\b\b\b\b\b\b\b\b\b\b\b\b\b\b\b\b\b\b\b\b\b\b\b\b\b\b\b\b\b\b\b\b\b\b\b\b\b\b\b\b\b\b\b\b\b\b\b\b\b\b\b\b\b\b\b\b\b\b\b\b\b\b\b\b\b\b\b\b\b\b\b\b\b\b\b\b\b\b\r500/500 [==============================] - 4s 8ms/step - loss: 0.3223 - accuracy: 0.8852 - val_loss: 0.3186 - val_accuracy: 0.8915\n",
            "Epoch 3/20\n",
            "500/500 [==============================] - 3s 7ms/step - loss: 0.1416 - accuracy: 0.9508 - val_loss: 0.3266 - val_accuracy: 0.8995\n",
            "Epoch 4/20\n",
            "500/500 [==============================] - 3s 6ms/step - loss: 0.0807 - accuracy: 0.9716 - val_loss: 0.3732 - val_accuracy: 0.8980\n",
            "Epoch 5/20\n",
            "500/500 [==============================] - 3s 6ms/step - loss: 0.0558 - accuracy: 0.9801 - val_loss: 0.4591 - val_accuracy: 0.8885\n",
            "Epoch 6/20\n",
            "500/500 [==============================] - 3s 6ms/step - loss: 0.0463 - accuracy: 0.9851 - val_loss: 0.4901 - val_accuracy: 0.8875\n",
            "Epoch 7/20\n",
            "500/500 [==============================] - 4s 7ms/step - loss: 0.0419 - accuracy: 0.9856 - val_loss: 0.4390 - val_accuracy: 0.8995\n",
            "Epoch 8/20\n",
            "500/500 [==============================] - 5s 10ms/step - loss: 0.0332 - accuracy: 0.9882 - val_loss: 0.4258 - val_accuracy: 0.9005\n",
            "Epoch 9/20\n",
            "500/500 [==============================] - 5s 11ms/step - loss: 0.0248 - accuracy: 0.9919 - val_loss: 0.4323 - val_accuracy: 0.9080\n",
            "Epoch 10/20\n",
            "500/500 [==============================] - 4s 8ms/step - loss: 0.0219 - accuracy: 0.9927 - val_loss: 0.4873 - val_accuracy: 0.9020\n",
            "Epoch 11/20\n",
            "500/500 [==============================] - 3s 6ms/step - loss: 0.0217 - accuracy: 0.9919 - val_loss: 0.5215 - val_accuracy: 0.8995\n",
            "Epoch 12/20\n",
            "500/500 [==============================] - 3s 6ms/step - loss: 0.0201 - accuracy: 0.9931 - val_loss: 0.5417 - val_accuracy: 0.8975\n",
            "Epoch 13/20\n",
            "500/500 [==============================] - 3s 7ms/step - loss: 0.0176 - accuracy: 0.9936 - val_loss: 0.5195 - val_accuracy: 0.8975\n",
            "Epoch 14/20\n",
            "500/500 [==============================] - 3s 5ms/step - loss: 0.0208 - accuracy: 0.9923 - val_loss: 0.6816 - val_accuracy: 0.8825\n",
            "Epoch 15/20\n",
            "500/500 [==============================] - 3s 6ms/step - loss: 0.0222 - accuracy: 0.9913 - val_loss: 0.5802 - val_accuracy: 0.8985\n",
            "Epoch 16/20\n",
            "500/500 [==============================] - 3s 6ms/step - loss: 0.0156 - accuracy: 0.9938 - val_loss: 0.6216 - val_accuracy: 0.8950\n",
            "Epoch 17/20\n",
            "500/500 [==============================] - 3s 7ms/step - loss: 0.0149 - accuracy: 0.9939 - val_loss: 0.6514 - val_accuracy: 0.8910\n",
            "Epoch 18/20\n",
            "500/500 [==============================] - 3s 5ms/step - loss: 0.0138 - accuracy: 0.9944 - val_loss: 0.7128 - val_accuracy: 0.8835\n",
            "Epoch 19/20\n",
            "500/500 [==============================] - 4s 8ms/step - loss: 0.0175 - accuracy: 0.9933 - val_loss: 0.7068 - val_accuracy: 0.8825\n",
            "Epoch 20/20\n",
            "500/500 [==============================] - 3s 7ms/step - loss: 0.0166 - accuracy: 0.9943 - val_loss: 0.7359 - val_accuracy: 0.8850\n"
          ]
        }
      ],
      "source": [
        "history_cnn = cnn_model.fit(train_data, epochs=20, validation_data=test_data,\n",
        "                            callbacks=[create_model_checkpoint(model_name='CNNmodel')])"
      ]
    },
    {
      "cell_type": "markdown",
      "id": "f8ba718c-1ea1-4a43-80a7-69b3cc11ae2f",
      "metadata": {
        "id": "f8ba718c-1ea1-4a43-80a7-69b3cc11ae2f"
      },
      "source": [
        "## Model Evaluation and Predictions"
      ]
    },
    {
      "cell_type": "code",
      "execution_count": 47,
      "id": "7EypiUscUuSt",
      "metadata": {
        "colab": {
          "base_uri": "https://localhost:8080/"
        },
        "id": "7EypiUscUuSt",
        "outputId": "6f72a7ce-9247-465d-c94a-970eef792dc4"
      },
      "outputs": [
        {
          "name": "stdout",
          "output_type": "stream",
          "text": [
            "63/63 [==============================] - 1s 8ms/step - loss: 0.4113 - accuracy: 0.9220\n"
          ]
        },
        {
          "data": {
            "text/plain": [
              "[0.41134729981422424, 0.921999990940094]"
            ]
          },
          "execution_count": 47,
          "metadata": {},
          "output_type": "execute_result"
        }
      ],
      "source": [
        "model.evaluate(test_data)"
      ]
    },
    {
      "cell_type": "code",
      "execution_count": 48,
      "id": "iMn8kt8tXKxJ",
      "metadata": {
        "id": "iMn8kt8tXKxJ"
      },
      "outputs": [],
      "source": [
        "from sklearn.metrics import accuracy_score, precision_recall_fscore_support\n",
        "\n",
        "def calculate_results(y_true, y_pred):\n",
        "  \"\"\"\n",
        "  Calculates model accuracy, precision, recall and f1 score of a binary classification model.\n",
        "\n",
        "  Args:\n",
        "  -----\n",
        "  y_true = true labels in the form of a 1D array\n",
        "  y_pred = predicted labels in the form of a 1D array\n",
        "\n",
        "  Returns a dictionary of accuracy, precision, recall, f1-score.\n",
        "  \"\"\"\n",
        "  # Calculate model accuracy\n",
        "  model_accuracy = accuracy_score(y_true, y_pred) * 100\n",
        "  # Calculate model precision, recall and f1 score using \"weighted\" average\n",
        "  model_precision, model_recall, model_f1, _ = precision_recall_fscore_support(y_true, y_pred, average=\"weighted\")\n",
        "  model_results = {\"accuracy\": model_accuracy,\n",
        "                  \"precision\": model_precision,\n",
        "                  \"recall\": model_recall,\n",
        "                  \"f1\": model_f1}\n",
        "  return model_results"
      ]
    },
    {
      "cell_type": "code",
      "execution_count": 49,
      "id": "FKszcT9cXKzq",
      "metadata": {
        "colab": {
          "base_uri": "https://localhost:8080/"
        },
        "id": "FKszcT9cXKzq",
        "outputId": "41921f18-18a2-4a52-f036-bb7328f35e48"
      },
      "outputs": [
        {
          "name": "stdout",
          "output_type": "stream",
          "text": [
            "63/63 [==============================] - 2s 8ms/step\n"
          ]
        },
        {
          "data": {
            "text/plain": [
              "<tf.Tensor: shape=(2000,), dtype=int64, numpy=array([4, 4, 4, ..., 2, 2, 1])>"
            ]
          },
          "execution_count": 49,
          "metadata": {},
          "output_type": "execute_result"
        }
      ],
      "source": [
        "y_preds = tf.argmax(model.predict(test_data), axis=1)\n",
        "y_preds"
      ]
    },
    {
      "cell_type": "code",
      "execution_count": 50,
      "id": "qPTW7YXfXK13",
      "metadata": {
        "colab": {
          "base_uri": "https://localhost:8080/"
        },
        "id": "qPTW7YXfXK13",
        "outputId": "c9d2b5d3-293e-4790-ddaa-fe9de7d7ae10"
      },
      "outputs": [
        {
          "data": {
            "text/plain": [
              "{'accuracy': 92.2,\n",
              " 'precision': 0.922588537715457,\n",
              " 'recall': 0.922,\n",
              " 'f1': 0.9208108905173319}"
            ]
          },
          "execution_count": 50,
          "metadata": {},
          "output_type": "execute_result"
        }
      ],
      "source": [
        "calculate_results(test_df['target'].to_numpy(), y_preds)"
      ]
    },
    {
      "cell_type": "code",
      "execution_count": 51,
      "id": "gm8QhlgpXK4Q",
      "metadata": {
        "colab": {
          "base_uri": "https://localhost:8080/",
          "height": 447
        },
        "id": "gm8QhlgpXK4Q",
        "outputId": "216f94f9-c511-45a3-d729-0e241cac190d"
      },
      "outputs": [
        {
          "data": {
            "text/plain": [
              "<Axes: >"
            ]
          },
          "execution_count": 51,
          "metadata": {},
          "output_type": "execute_result"
        },
        {
          "data": {
            "image/png": "[encoded data removed]",
            "text/plain": [
              "<Figure size 640x480 with 1 Axes>"
            ]
          },
          "metadata": {},
          "output_type": "display_data"
        }
      ],
      "source": [
        "pd.DataFrame(history.history).plot()"
      ]
    },
    {
      "cell_type": "code",
      "execution_count": 52,
      "id": "BJJvgKUfXK80",
      "metadata": {
        "colab": {
          "base_uri": "https://localhost:8080/"
        },
        "id": "BJJvgKUfXK80",
        "outputId": "6e9b5ee2-c74f-4d68-b852-01a9ff4db95d"
      },
      "outputs": [
        {
          "data": {
            "text/plain": [
              "array([[252,  11,   5,   0,   7,   0],\n",
              "       [  2, 215,   0,   0,   5,   2],\n",
              "       [  0,   8, 663,  20,   1,   3],\n",
              "       [  1,   0,  36, 118,   3,   1],\n",
              "       [ 13,   9,   4,   0, 554,   1],\n",
              "       [  0,  17,   3,   0,   4,  42]])"
            ]
          },
          "execution_count": 52,
          "metadata": {},
          "output_type": "execute_result"
        }
      ],
      "source": [
        "from sklearn.metrics import confusion_matrix\n",
        "confusion_matrix(test_df['target'].to_numpy(), y_preds)"
      ]
    },
    {
      "cell_type": "code",
      "execution_count": 53,
      "id": "fxMiX4SNXK-_",
      "metadata": {
        "colab": {
          "base_uri": "https://localhost:8080/"
        },
        "id": "fxMiX4SNXK-_",
        "outputId": "adc7ebb8-3186-4ee8-f10d-953480de4d2e"
      },
      "outputs": [
        {
          "name": "stdout",
          "output_type": "stream",
          "text": [
            "63/63 [==============================] - 0s 4ms/step - loss: 0.7359 - accuracy: 0.8850\n"
          ]
        },
        {
          "data": {
            "text/plain": [
              "[0.7359461784362793, 0.8849999904632568]"
            ]
          },
          "execution_count": 53,
          "metadata": {},
          "output_type": "execute_result"
        }
      ],
      "source": [
        "cnn_model.evaluate(test_data)"
      ]
    },
    {
      "cell_type": "code",
      "execution_count": 55,
      "id": "jRGXdD4NXLBU",
      "metadata": {
        "colab": {
          "base_uri": "https://localhost:8080/"
        },
        "id": "jRGXdD4NXLBU",
        "outputId": "ab9c30ca-68ae-4495-dabd-ef25a05c85b8"
      },
      "outputs": [
        {
          "name": "stdout",
          "output_type": "stream",
          "text": [
            "63/63 [==============================] - 1s 6ms/step - loss: 0.3186 - accuracy: 0.8915\n"
          ]
        },
        {
          "data": {
            "text/plain": [
              "[0.31863799691200256, 0.8914999961853027]"
            ]
          },
          "execution_count": 55,
          "metadata": {},
          "output_type": "execute_result"
        }
      ],
      "source": [
        "cnn_model = tf.keras.models.load_model('/content/model_experiments/CNNmodel')\n",
        "cnn_model.evaluate(test_data)"
      ]
    },
    {
      "cell_type": "code",
      "execution_count": 56,
      "id": "x1hKwBlAYqmE",
      "metadata": {
        "colab": {
          "base_uri": "https://localhost:8080/"
        },
        "id": "x1hKwBlAYqmE",
        "outputId": "4af11281-89d9-4e5a-f667-6ddcf3288609"
      },
      "outputs": [
        {
          "name": "stdout",
          "output_type": "stream",
          "text": [
            "63/63 [==============================] - 0s 2ms/step\n"
          ]
        },
        {
          "data": {
            "text/plain": [
              "<tf.Tensor: shape=(2000,), dtype=int64, numpy=array([4, 4, 4, ..., 2, 4, 1])>"
            ]
          },
          "execution_count": 56,
          "metadata": {},
          "output_type": "execute_result"
        }
      ],
      "source": [
        "cnn_y_preds = tf.argmax(cnn_model.predict(test_data), axis=1)\n",
        "cnn_y_preds"
      ]
    },
    {
      "cell_type": "code",
      "execution_count": 57,
      "id": "SNgz1mCOY1Ia",
      "metadata": {
        "colab": {
          "base_uri": "https://localhost:8080/"
        },
        "id": "SNgz1mCOY1Ia",
        "outputId": "3f9fb993-36c1-4500-82b1-49927b565966"
      },
      "outputs": [
        {
          "data": {
            "text/plain": [
              "{'accuracy': 89.14999999999999,\n",
              " 'precision': 0.8894849854642066,\n",
              " 'recall': 0.8915,\n",
              " 'f1': 0.8867861510689202}"
            ]
          },
          "execution_count": 57,
          "metadata": {},
          "output_type": "execute_result"
        }
      ],
      "source": [
        "calculate_results(test_df['target'].to_numpy(), cnn_y_preds)"
      ]
    },
    {
      "cell_type": "code",
      "execution_count": 58,
      "id": "N5zj-ZptY1Ki",
      "metadata": {
        "colab": {
          "base_uri": "https://localhost:8080/",
          "height": 447
        },
        "id": "N5zj-ZptY1Ki",
        "outputId": "05430ee0-1884-43bd-9241-07f8392550f3"
      },
      "outputs": [
        {
          "data": {
            "text/plain": [
              "<Axes: >"
            ]
          },
          "execution_count": 58,
          "metadata": {},
          "output_type": "execute_result"
        },
        {
          "data": {
            "image/png": "[encoded data removed]",
            "text/plain": [
              "<Figure size 640x480 with 1 Axes>"
            ]
          },
          "metadata": {},
          "output_type": "display_data"
        }
      ],
      "source": [
        "pd.DataFrame(history_cnn.history).plot()"
      ]
    },
    {
      "cell_type": "code",
      "execution_count": 59,
      "id": "e1Gj1P3HYIEq",
      "metadata": {
        "colab": {
          "base_uri": "https://localhost:8080/"
        },
        "id": "e1Gj1P3HYIEq",
        "outputId": "5b664d7d-b0a5-4721-a210-32b607c3ca00"
      },
      "outputs": [
        {
          "data": {
            "text/plain": [
              "array([[252,  11,   5,   0,   7,   0],\n",
              "       [  2, 215,   0,   0,   5,   2],\n",
              "       [  0,   8, 663,  20,   1,   3],\n",
              "       [  1,   0,  36, 118,   3,   1],\n",
              "       [ 13,   9,   4,   0, 554,   1],\n",
              "       [  0,  17,   3,   0,   4,  42]])"
            ]
          },
          "execution_count": 59,
          "metadata": {},
          "output_type": "execute_result"
        }
      ],
      "source": [
        "from sklearn.metrics import confusion_matrix\n",
        "confusion_matrix(test_df['target'].to_numpy(), y_preds)"
      ]
    },
    {
      "cell_type": "markdown",
      "id": "IX3JsjEjZMSq",
      "metadata": {
        "id": "IX3JsjEjZMSq"
      },
      "source": [
        "## Making Custom Predictions with best model"
      ]
    },
    {
      "cell_type": "code",
      "execution_count": 69,
      "id": "heD4wEmpaHBp",
      "metadata": {
        "colab": {
          "base_uri": "https://localhost:8080/"
        },
        "id": "heD4wEmpaHBp",
        "outputId": "3a533127-3d69-4ad5-ac3c-d3d11487e279"
      },
      "outputs": [
        {
          "data": {
            "text/plain": [
              "array(['anger', 'fear', 'joy', 'love', 'sadness', 'surprise'],\n",
              "      dtype=object)"
            ]
          },
          "execution_count": 69,
          "metadata": {},
          "output_type": "execute_result"
        }
      ],
      "source": [
        "lr.classes_"
      ]
    },
    {
      "cell_type": "code",
      "execution_count": 67,
      "id": "gqx0ShDSZPz2",
      "metadata": {
        "id": "gqx0ShDSZPz2"
      },
      "outputs": [],
      "source": [
        "class_names = lr.classes_\n",
        "def predict(text):\n",
        "  print(f'Original Sentence : \\n {text}')\n",
        "  input_tensor = text_vectorizer([text])\n",
        "  y_prob = model.predict(input_tensor)\n",
        "  y_pred = tf.argmax(y_prob, axis=1)\n",
        "  print(f'Model Prediction : {class_names[int(y_pred)]}')\n",
        "  print(f'Probability : {tf.reduce_max(y_prob)*100:.2f}%')\n",
        "  print(f'Probs (all classes) : {y_prob}')"
      ]
    },
    {
      "cell_type": "code",
      "execution_count": 68,
      "id": "Y1E_teU3Z3zL",
      "metadata": {
        "colab": {
          "base_uri": "https://localhost:8080/"
        },
        "id": "Y1E_teU3Z3zL",
        "outputId": "7aab24dd-8b23-428e-a2af-fe3d82de17e1"
      },
      "outputs": [
        {
          "name": "stdout",
          "output_type": "stream",
          "text": [
            "Original Sentence : \n",
            " I am very Happy, because I have successfully passed the TensorFlow Developer Certificate Exam\n",
            "1/1 [==============================] - 4s 4s/step\n",
            "Model Prediction : joy\n",
            "Probability : 99.02%\n",
            "Probs (all classes) : [[6.6772080e-03 7.8300014e-04 9.9024439e-01 1.4678094e-03 7.8064913e-04\n",
            "  4.7029716e-05]]\n"
          ]
        }
      ],
      "source": [
        "predict('I am very Happy, because I have successfully passed the TensorFlow Developer Certificate Exam')"
      ]
    },
    {
      "cell_type": "code",
      "execution_count": 73,
      "id": "jmETqxG_aDxi",
      "metadata": {
        "colab": {
          "base_uri": "https://localhost:8080/"
        },
        "id": "jmETqxG_aDxi",
        "outputId": "ba4c9cf4-cbb3-46dd-9521-11aea724a9a1"
      },
      "outputs": [
        {
          "name": "stdout",
          "output_type": "stream",
          "text": [
            "Original Sentence : \n",
            " I fear the darkness that had lied before me\n",
            "1/1 [==============================] - 0s 65ms/step\n",
            "Model Prediction : fear\n",
            "Probability : 65.06%\n",
            "Probs (all classes) : [[0.01731758 0.6506007  0.09549109 0.00985831 0.02982409 0.19690819]]\n"
          ]
        }
      ],
      "source": [
        "predict('I fear the darkness that had lied before me')"
      ]
    },
    {
      "cell_type": "code",
      "execution_count": 74,
      "id": "Rnqid5HyaDza",
      "metadata": {
        "colab": {
          "base_uri": "https://localhost:8080/"
        },
        "id": "Rnqid5HyaDza",
        "outputId": "2b9c2bcf-62f5-441b-ac90-ba3fd0c73cb3"
      },
      "outputs": [
        {
          "name": "stdout",
          "output_type": "stream",
          "text": [
            "Original Sentence : \n",
            " I am pretty disappointed in Ayansh my brother, because he broke the T.V\n",
            "1/1 [==============================] - 0s 78ms/step\n",
            "Model Prediction : sadness\n",
            "Probability : 99.99%\n",
            "Probs (all classes) : [[2.7831938e-05 5.9012942e-05 1.8014864e-05 3.3493839e-06 9.9989045e-01\n",
            "  1.2724751e-06]]\n"
          ]
        }
      ],
      "source": [
        "predict('I am pretty disappointed in Ayansh my brother, because he broke the T.V')"
      ]
    },
    {
      "cell_type": "code",
      "execution_count": 75,
      "id": "nddLNh0papYW",
      "metadata": {
        "colab": {
          "base_uri": "https://localhost:8080/"
        },
        "id": "nddLNh0papYW",
        "outputId": "288b8050-eb53-4669-8b79-3170c19a244f"
      },
      "outputs": [
        {
          "name": "stdout",
          "output_type": "stream",
          "text": [
            "Original Sentence : \n",
            " I was surprised and shocked, to see my parents bringing a 32 inch Monitor and a custom build PC and gifted me for my birthday\n",
            "1/1 [==============================] - 0s 36ms/step\n",
            "Model Prediction : surprise\n",
            "Probability : 98.03%\n",
            "Probs (all classes) : [[5.3302927e-07 1.5948844e-03 1.6275497e-02 1.7415049e-03 1.0769408e-04\n",
            "  9.8027980e-01]]\n"
          ]
        }
      ],
      "source": [
        "predict('I was surprised and shocked, to see my parents bringing a 32 inch Monitor and a custom build PC and gifted me for my birthday')"
      ]
    },
    {
      "cell_type": "code",
      "execution_count": 78,
      "id": "5b_sgv1pa2t5",
      "metadata": {
        "colab": {
          "base_uri": "https://localhost:8080/"
        },
        "id": "5b_sgv1pa2t5",
        "outputId": "cfbd91a1-9aff-45ca-f837-94e3f4b376ed"
      },
      "outputs": [
        {
          "name": "stdout",
          "output_type": "stream",
          "text": [
            "Original Sentence : \n",
            " I was very angry at my brother for he had almost broken my Keyboard\n",
            "1/1 [==============================] - 0s 45ms/step\n",
            "Model Prediction : anger\n",
            "Probability : 99.98%\n",
            "Probs (all classes) : [[9.9977475e-01 1.1939997e-04 6.3974527e-05 1.7808374e-05 2.3955401e-05\n",
            "  1.4174317e-07]]\n"
          ]
        }
      ],
      "source": [
        "predict('I was very angry at my brother for he had almost broken my Keyboard')"
      ]
    },
    {
      "cell_type": "markdown",
      "id": "8b096836-fc84-451d-b049-f1885e880796",
      "metadata": {
        "id": "8b096836-fc84-451d-b049-f1885e880796"
      },
      "source": [
        "## Saving the Model"
      ]
    },
    {
      "cell_type": "code",
      "execution_count": 79,
      "id": "6b900588-e1bc-49fd-8b73-f9dd00d31115",
      "metadata": {
        "id": "6b900588-e1bc-49fd-8b73-f9dd00d31115"
      },
      "outputs": [],
      "source": [
        "model.save('Text-Emotion_detection_BiLSTM_model.h5')"
      ]
    }
  ],
  "metadata": {
    "accelerator": "GPU",
    "colab": {
      "gpuType": "T4",
      "provenance": []
    },
    "kernelspec": {
      "display_name": "Python 3",
      "name": "python3"
    },
    "language_info": {
      "codemirror_mode": {
        "name": "ipython",
        "version": 3
      },
      "file_extension": ".py",
      "mimetype": "text/x-python",
      "name": "python",
      "nbconvert_exporter": "python",
      "pygments_lexer": "ipython3",
      "version": "3.10.9"
    }
  },
  "nbformat": 4,
  "nbformat_minor": 5
}
